{
 "cells": [
  {
   "cell_type": "markdown",
   "id": "e7ebfd42",
   "metadata": {},
   "source": [
    "names = ['Alice', 'Bob', 'Charlie', 'Diana']\n",
    "\n",
    "base_salary = [50000, 60000, 55000, 65000]\n",
    "\n",
    "bonus_percent = [10, 12, 8, 15]\n",
    "\n",
    "Create a dictionary where:\n",
    "\n",
    "'Name': total_salary_after_bonus\n",
    "\n",
    "\n",
    "💡 total salary = base salary + (base salary × bonus%)\n"
   ]
  },
  {
   "cell_type": "code",
   "execution_count": 1,
   "id": "279d4d4b",
   "metadata": {},
   "outputs": [
    {
     "name": "stdout",
     "output_type": "stream",
     "text": [
      "{'Alice': 55000.0, 'Bob': 67200.0, 'Charlie': 59400.0, 'Diana': 74750.0}\n"
     ]
    }
   ],
   "source": [
    "dict_zip ={k:(v1+(v2/100)*v1)   for k,v1,v2 in zip(['Alice', 'Bob', 'Charlie', 'Diana'], [50000, 60000, 55000, 65000],[10, 12, 8, 15])}\n",
    "print(dict_zip)"
   ]
  },
  {
   "cell_type": "markdown",
   "id": "010678fb",
   "metadata": {},
   "source": [
    "Q2.\n",
    "\n",
    "Given:\n",
    "\n",
    "products = ['Laptop', 'Phone', 'Tablet']\n",
    "prices = [800, 500, 300]\n",
    "stocks = [10, 25, 15]\n",
    "\n",
    "\n",
    "Create a dictionary where key = product and value = dictionary like:\n",
    "\n",
    "{'price': price_value, 'stock': stock_value}"
   ]
  },
  {
   "cell_type": "code",
   "execution_count": 2,
   "id": "53a09169",
   "metadata": {},
   "outputs": [
    {
     "name": "stdout",
     "output_type": "stream",
     "text": [
      "{'Laptop': {800, 10}, 'Phone': {25, 500}, 'Tablet': {300, 15}}\n"
     ]
    }
   ],
   "source": [
    "product_dict ={ k:{v,v1}   for k,v,v1 in zip(['Laptop', 'Phone', 'Tablet'],[800, 500, 300],[10, 25, 15])}\n",
    "print(product_dict)"
   ]
  },
  {
   "cell_type": "markdown",
   "id": "9efd6208",
   "metadata": {},
   "source": [
    "Q3.\n",
    "\n",
    "Given:\n",
    "\n",
    "cities = ['Paris', 'London', 'New York']\n",
    "\n",
    "latitudes = [48.8566, 51.5074, 40.7128]\n",
    "\n",
    "longitudes = [2.3522, -0.1276, -74.0060]\n",
    "\n",
    "\n",
    "Create a dictionary where:\n",
    "\n",
    "'Paris': (48.8566, 2.3522),\n",
    "'London': (51.5074, -0.1276),\n",
    "..."
   ]
  },
  {
   "cell_type": "code",
   "execution_count": 3,
   "id": "7bca1d68",
   "metadata": {},
   "outputs": [
    {
     "name": "stdout",
     "output_type": "stream",
     "text": [
      "{'Paris': (800, 10), 'London': (500, 25), 'New York': (300, 15)}\n"
     ]
    }
   ],
   "source": [
    "cities_dict = {k:(la,lo)  for k,la,lo in zip(['Paris', 'London', 'New York'],[800, 500, 300], [10, 25, 15])}\n",
    "print(cities_dict)"
   ]
  },
  {
   "cell_type": "markdown",
   "id": "d3c49ed7",
   "metadata": {},
   "source": [
    "students = ['Raj', 'Anita', 'Karan']\n",
    "math = [88, 92, 79]\n",
    "science = [91, 85, 88]\n",
    "english = [84, 90, 80]\n",
    "\n",
    "\n",
    "Create a dictionary where key = student and value = dictionary of:\n",
    "\n",
    "{'Math': score, 'Science': score, 'English': score, 'Average': avg_score}"
   ]
  },
  {
   "cell_type": "code",
   "execution_count": 7,
   "id": "ed363f9d",
   "metadata": {},
   "outputs": [
    {
     "name": "stdout",
     "output_type": "stream",
     "text": [
      "Raj {'math': 88, 'science': 91, 'english': 84, 'average': 87.66666666666667}\n",
      "Anita {'math': 92, 'science': 85, 'english': 90, 'average': 89.0}\n",
      "Karan {'math': 79, 'science': 88, 'english': 80, 'average': 82.33333333333333}\n"
     ]
    }
   ],
   "source": [
    "dict_student ={k:{'math':v,'science':v1,'english':v2,'average':(v+v1+v2)/3} for k,v,v1,v2 in zip(['Raj', 'Anita', 'Karan'],[88, 92, 79],[91, 85, 88],[84, 90, 80])}\n",
    "\n",
    "for ele,items in dict_student.items():\n",
    "    print(ele,items)\n"
   ]
  },
  {
   "cell_type": "markdown",
   "id": "65805edb",
   "metadata": {},
   "source": [
    "Q4. Sports Player Statistics\n",
    "\n",
    "players = ['Virat', 'Rohit', 'Bumrah']\n",
    "\n",
    "matches = [250, 300, 150]\n",
    "\n",
    "runs = [12000, 9800, 450]\n",
    "\n",
    "wickets = [8, 0, 250]\n",
    "\n",
    "\n",
    "Create a dictionary where key = player and value = tuple:\n",
    "\n",
    "(total_matches, total_points)\n",
    "\n",
    "\n",
    "💡 total_points = runs + (wickets × 20)"
   ]
  },
  {
   "cell_type": "code",
   "execution_count": 8,
   "id": "7abba271",
   "metadata": {},
   "outputs": [
    {
     "name": "stdout",
     "output_type": "stream",
     "text": [
      "{'Virat': (250, 12160), 'Rohit': (300, 9800), 'Bumrah': (150, 5450)}\n"
     ]
    }
   ],
   "source": [
    "sports_dict ={k:(v,(v1+v2*20)) for k,v,v1,v2 in zip(['Virat', 'Rohit', 'Bumrah'],[250, 300, 150],[12000, 9800, 450],[8, 0, 250]) }\n",
    "print(sports_dict)\n"
   ]
  },
  {
   "cell_type": "code",
   "execution_count": 9,
   "id": "ec17b149",
   "metadata": {},
   "outputs": [
    {
     "name": "stdout",
     "output_type": "stream",
     "text": [
      "{'Virat': (250, 12160), 'Rohit': (300, 9800), 'Bumrah': (150, 5450)}\n"
     ]
    }
   ],
   "source": [
    "players = ['Virat', 'Rohit', 'Bumrah']\n",
    "scores = [250, 300, 150]\n",
    "base_earnings = [12000, 9800, 450]\n",
    "matches = [8, 0, 250]\n",
    "match_fee = 20\n",
    "\n",
    "sports_dict = {\n",
    "    player: (score, base + matches_played * match_fee)\n",
    "    for player, score, base, matches_played in zip(players, scores, base_earnings, matches)\n",
    "}\n",
    "\n",
    "print(sports_dict)\n"
   ]
  },
  {
   "cell_type": "code",
   "execution_count": null,
   "id": "a7b688c5",
   "metadata": {},
   "outputs": [],
   "source": []
  }
 ],
 "metadata": {
  "kernelspec": {
   "display_name": "base",
   "language": "python",
   "name": "python3"
  },
  "language_info": {
   "codemirror_mode": {
    "name": "ipython",
    "version": 3
   },
   "file_extension": ".py",
   "mimetype": "text/x-python",
   "name": "python",
   "nbconvert_exporter": "python",
   "pygments_lexer": "ipython3",
   "version": "3.12.7"
  }
 },
 "nbformat": 4,
 "nbformat_minor": 5
}
